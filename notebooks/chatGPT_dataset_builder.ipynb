{
 "cells": [
  {
   "cell_type": "code",
   "execution_count": 46,
   "metadata": {},
   "outputs": [],
   "source": [
    "import numpy as np\n",
    "import pandas as pd"
   ]
  },
  {
   "cell_type": "code",
   "execution_count": 47,
   "metadata": {},
   "outputs": [],
   "source": [
    "with open('../data/dataset.txt', 'r') as f:\n",
    "    data = f.readlines()"
   ]
  },
  {
   "cell_type": "code",
   "execution_count": 48,
   "metadata": {},
   "outputs": [
    {
     "data": {
      "text/plain": [
       "300"
      ]
     },
     "execution_count": 48,
     "metadata": {},
     "output_type": "execute_result"
    }
   ],
   "source": [
    "len(data)"
   ]
  },
  {
   "cell_type": "code",
   "execution_count": 49,
   "metadata": {},
   "outputs": [
    {
     "data": {
      "text/plain": [
       "'Title: Excellent customer service, but delivery took longer than expected\\nI have to say, I was really impressed with the customer service provided by this e-commerce website. The representatives were incredibly helpful and quickly addressed all my concerns. They even went the extra mile to provide detailed information about the computer components I was interested in. However, I was disappointed with the delivery time. It took two weeks for my order to arrive, which caused inconvenience as I needed the components urgently. I hope the website can improve their delivery speed to ensure timely delivery for customers.\\n'"
      ]
     },
     "execution_count": 49,
     "metadata": {},
     "output_type": "execute_result"
    }
   ],
   "source": [
    "data[0]+data[1]"
   ]
  },
  {
   "cell_type": "code",
   "execution_count": 52,
   "metadata": {},
   "outputs": [
    {
     "data": {
      "text/plain": [
       "'Title: Excellent customer service, but delivery took longer than expected\\nI have to say, I was really impressed with the customer service provided by this e-commerce website. The representatives were incredibly helpful and quickly addressed all my concerns. They even went the extra mile to provide detailed information about the computer components I was interested in. However, I was disappointed with the delivery time. It took two weeks for my order to arrive, which caused inconvenience as I needed the components urgently. I hope the website can improve their delivery speed to ensure timely delivery for customers.\\n'"
      ]
     },
     "execution_count": 52,
     "metadata": {},
     "output_type": "execute_result"
    }
   ],
   "source": [
    "reviews = []\n",
    "\n",
    "for i in range(len(data)//3):\n",
    "    reviews.append(data[3*i]+data[3*i+1])\n",
    "    \n",
    "reviews[0]"
   ]
  },
  {
   "cell_type": "code",
   "execution_count": 54,
   "metadata": {},
   "outputs": [
    {
     "data": {
      "text/plain": [
       "'Title: Wide selection, but product descriptions need improvement\\nOne thing I really liked about this e-commerce website was the extensive range of computer components they offer. They have options to suit every budget, which is great. However, I noticed that some of the product descriptions were inaccurate or incomplete. It was frustrating because I rely on accurate information to make informed purchase decisions. I kindly request the website to review and update their product descriptions regularly. This would greatly enhance the overall shopping experience and help customers choose the right components without any confusion.\\n'"
      ]
     },
     "execution_count": 54,
     "metadata": {},
     "output_type": "execute_result"
    }
   ],
   "source": [
    "reviews[1]"
   ]
  },
  {
   "cell_type": "code",
   "execution_count": 55,
   "metadata": {},
   "outputs": [],
   "source": [
    "df_reviews = pd.DataFrame(reviews, columns=[\"reviews\"])"
   ]
  },
  {
   "cell_type": "code",
   "execution_count": 56,
   "metadata": {},
   "outputs": [],
   "source": [
    "df_reviews.to_csv('../data/extended_commerce_reviews.csv', index=False, header=False)"
   ]
  },
  {
   "cell_type": "code",
   "execution_count": 57,
   "metadata": {},
   "outputs": [
    {
     "data": {
      "text/html": [
       "<div>\n",
       "<style scoped>\n",
       "    .dataframe tbody tr th:only-of-type {\n",
       "        vertical-align: middle;\n",
       "    }\n",
       "\n",
       "    .dataframe tbody tr th {\n",
       "        vertical-align: top;\n",
       "    }\n",
       "\n",
       "    .dataframe thead th {\n",
       "        text-align: right;\n",
       "    }\n",
       "</style>\n",
       "<table border=\"1\" class=\"dataframe\">\n",
       "  <thead>\n",
       "    <tr style=\"text-align: right;\">\n",
       "      <th></th>\n",
       "      <th>reviews</th>\n",
       "    </tr>\n",
       "  </thead>\n",
       "  <tbody>\n",
       "    <tr>\n",
       "      <th>0</th>\n",
       "      <td>Title: Excellent customer service, but deliver...</td>\n",
       "    </tr>\n",
       "    <tr>\n",
       "      <th>1</th>\n",
       "      <td>Title: Wide selection, but product description...</td>\n",
       "    </tr>\n",
       "    <tr>\n",
       "      <th>2</th>\n",
       "      <td>Title: Quick resolution for a faulty product\\n...</td>\n",
       "    </tr>\n",
       "    <tr>\n",
       "      <th>3</th>\n",
       "      <td>Title: Great prices, but packaging needs impro...</td>\n",
       "    </tr>\n",
       "    <tr>\n",
       "      <th>4</th>\n",
       "      <td>Title: Missing accessories, efficient refund p...</td>\n",
       "    </tr>\n",
       "    <tr>\n",
       "      <th>...</th>\n",
       "      <td>...</td>\n",
       "    </tr>\n",
       "    <tr>\n",
       "      <th>95</th>\n",
       "      <td>\\nTitle: High-quality webcam, but limited moun...</td>\n",
       "    </tr>\n",
       "    <tr>\n",
       "      <th>96</th>\n",
       "      <td>\\nTitle: User-friendly photo printer, but expe...</td>\n",
       "    </tr>\n",
       "    <tr>\n",
       "      <th>97</th>\n",
       "      <td>\\nTitle: Durable laptop case, but limited stor...</td>\n",
       "    </tr>\n",
       "    <tr>\n",
       "      <th>98</th>\n",
       "      <td>\\nTitle: Lightweight wireless mouse, but avera...</td>\n",
       "    </tr>\n",
       "    <tr>\n",
       "      <th>99</th>\n",
       "      <td>\\nTitle: Reliable surge protector, but limited...</td>\n",
       "    </tr>\n",
       "  </tbody>\n",
       "</table>\n",
       "<p>100 rows × 1 columns</p>\n",
       "</div>"
      ],
      "text/plain": [
       "                                              reviews\n",
       "0   Title: Excellent customer service, but deliver...\n",
       "1   Title: Wide selection, but product description...\n",
       "2   Title: Quick resolution for a faulty product\\n...\n",
       "3   Title: Great prices, but packaging needs impro...\n",
       "4   Title: Missing accessories, efficient refund p...\n",
       "..                                                ...\n",
       "95  \\nTitle: High-quality webcam, but limited moun...\n",
       "96  \\nTitle: User-friendly photo printer, but expe...\n",
       "97  \\nTitle: Durable laptop case, but limited stor...\n",
       "98  \\nTitle: Lightweight wireless mouse, but avera...\n",
       "99  \\nTitle: Reliable surge protector, but limited...\n",
       "\n",
       "[100 rows x 1 columns]"
      ]
     },
     "execution_count": 57,
     "metadata": {},
     "output_type": "execute_result"
    }
   ],
   "source": [
    "df_reviews"
   ]
  },
  {
   "cell_type": "code",
   "execution_count": 58,
   "metadata": {},
   "outputs": [
    {
     "data": {
      "text/plain": [
       "\"Title: Great prices, but packaging needs improvement\\nOne of the standout aspects of this e-commerce website is the competitive prices they offer for computer components. I was able to find everything I needed at significantly lower prices compared to other online retailers. It's definitely a great place for budget-conscious shoppers. However, I was disappointed with the packaging of my recent order. The components were not adequately protected, and as a result, one of them arrived with a minor scratch. I believe the website should improve their packaging methods to ensure that products arrive in perfect condition. Proper padding and protective materials would go a long way in preventing any damage during transit.\\n\""
      ]
     },
     "execution_count": 58,
     "metadata": {},
     "output_type": "execute_result"
    }
   ],
   "source": [
    "df_reviews.values[3].tolist()[0]"
   ]
  },
  {
   "cell_type": "code",
   "execution_count": 59,
   "metadata": {},
   "outputs": [],
   "source": [
    "df_reviews_minimal = df_reviews.head(5)"
   ]
  },
  {
   "cell_type": "code",
   "execution_count": null,
   "metadata": {},
   "outputs": [],
   "source": [
    "df_reviews_minimal.to_csv('../data/extended_commerce_reviews_minimal.csv', index=False, header=False)"
   ]
  }
 ],
 "metadata": {
  "kernelspec": {
   "display_name": "ai-hack",
   "language": "python",
   "name": "python3"
  },
  "language_info": {
   "codemirror_mode": {
    "name": "ipython",
    "version": 3
   },
   "file_extension": ".py",
   "mimetype": "text/x-python",
   "name": "python",
   "nbconvert_exporter": "python",
   "pygments_lexer": "ipython3",
   "version": "3.10.6"
  },
  "orig_nbformat": 4
 },
 "nbformat": 4,
 "nbformat_minor": 2
}
